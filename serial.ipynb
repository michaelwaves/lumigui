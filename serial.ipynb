{
 "cells": [
  {
   "cell_type": "code",
   "execution_count": 7,
   "metadata": {},
   "outputs": [],
   "source": [
    "import time\n",
    "import serial.tools.list_ports\n",
    "import pyautogui\n",
    "\n"
   ]
  },
  {
   "cell_type": "code",
   "execution_count": 8,
   "metadata": {},
   "outputs": [],
   "source": [
    "ports = serial.tools.list_ports.comports()\n",
    "serialInstance = serial.Serial()"
   ]
  },
  {
   "cell_type": "code",
   "execution_count": 9,
   "metadata": {},
   "outputs": [
    {
     "name": "stdout",
     "output_type": "stream",
     "text": [
      "['COM3 - Arduino Uno (COM3)']\n"
     ]
    }
   ],
   "source": [
    "#find arduino port\n",
    "port_list = [str(port) for port in ports]\n",
    "print(port_list)\n",
    "    "
   ]
  },
  {
   "cell_type": "code",
   "execution_count": 10,
   "metadata": {},
   "outputs": [],
   "source": [
    "serialInstance.port = port_list[0].split(' ')[0]\n",
    "serialInstance.BAUDRATES = 9600\n",
    "serialInstance.open()"
   ]
  },
  {
   "cell_type": "code",
   "execution_count": 11,
   "metadata": {},
   "outputs": [],
   "source": [
    "def handleText(text):\n",
    "    if text == 'forward':\n",
    "        pyautogui.press('tab')\n",
    "        #pyautogui.hotkey('ctrl', 'esc')\n",
    "        print('tab')\n",
    "    if text == 'back':\n",
    "        pyautogui.hotkey('shift', 'tab')\n",
    "        #pyautogui.press(\"backspace\")\n",
    "        print('shift tab')\n",
    "    if text == 'submit':\n",
    "        pyautogui.press('enter')\n",
    "        print('enter')\n",
    "    if text == 'delete':\n",
    "        pyautogui.hotkey('ctrl', 'a')\n",
    "        pyautogui.press('backspace')\n",
    "        print('delete')\n",
    "    if text == 'speak':\n",
    "        pyautogui.hotkey('win','h')\n",
    "        print('speak')"
   ]
  },
  {
   "cell_type": "code",
   "execution_count": 12,
   "metadata": {},
   "outputs": [
    {
     "name": "stdout",
     "output_type": "stream",
     "text": [
      "tab\n",
      "tab\n",
      "tab\n",
      "shift tab\n",
      "shift tab\n",
      "shift tab\n",
      "shift tab\n",
      "tab\n",
      "tab\n",
      "shift tab\n",
      "enter\n",
      "tab\n",
      "tab\n",
      "tab\n",
      "shift tab\n",
      "shift tab\n",
      "speak\n",
      "shift tab\n",
      "tab\n",
      "tab\n",
      "tab\n",
      "tab\n",
      "tab\n",
      "tab\n",
      "tab\n",
      "delete\n",
      "delete\n"
     ]
    },
    {
     "ename": "KeyboardInterrupt",
     "evalue": "",
     "output_type": "error",
     "traceback": [
      "\u001b[1;31m---------------------------------------------------------------------------\u001b[0m",
      "\u001b[1;31mKeyboardInterrupt\u001b[0m                         Traceback (most recent call last)",
      "Cell \u001b[1;32mIn[12], line 4\u001b[0m\n\u001b[0;32m      1\u001b[0m count \u001b[39m=\u001b[39m \u001b[39m0\u001b[39m\n\u001b[0;32m      3\u001b[0m \u001b[39mwhile\u001b[39;00m \u001b[39mTrue\u001b[39;00m:\n\u001b[1;32m----> 4\u001b[0m     \u001b[39mif\u001b[39;00m serialInstance\u001b[39m.\u001b[39;49min_waiting:\n\u001b[0;32m      5\u001b[0m         packet \u001b[39m=\u001b[39m serialInstance\u001b[39m.\u001b[39mreadline()\n\u001b[0;32m      6\u001b[0m         txt \u001b[39m=\u001b[39m packet\u001b[39m.\u001b[39mdecode(\u001b[39m'\u001b[39m\u001b[39mutf-8\u001b[39m\u001b[39m'\u001b[39m)\n",
      "File \u001b[1;32mc:\\Users\\micha\\miniconda3\\lib\\site-packages\\serial\\serialwin32.py:258\u001b[0m, in \u001b[0;36mSerial.in_waiting\u001b[1;34m(self)\u001b[0m\n\u001b[0;32m    256\u001b[0m flags \u001b[39m=\u001b[39m win32\u001b[39m.\u001b[39mDWORD()\n\u001b[0;32m    257\u001b[0m comstat \u001b[39m=\u001b[39m win32\u001b[39m.\u001b[39mCOMSTAT()\n\u001b[1;32m--> 258\u001b[0m \u001b[39mif\u001b[39;00m \u001b[39mnot\u001b[39;00m win32\u001b[39m.\u001b[39;49mClearCommError(\u001b[39mself\u001b[39;49m\u001b[39m.\u001b[39;49m_port_handle, ctypes\u001b[39m.\u001b[39;49mbyref(flags), ctypes\u001b[39m.\u001b[39;49mbyref(comstat)):\n\u001b[0;32m    259\u001b[0m     \u001b[39mraise\u001b[39;00m SerialException(\u001b[39m\"\u001b[39m\u001b[39mClearCommError failed (\u001b[39m\u001b[39m{!r}\u001b[39;00m\u001b[39m)\u001b[39m\u001b[39m\"\u001b[39m\u001b[39m.\u001b[39mformat(ctypes\u001b[39m.\u001b[39mWinError()))\n\u001b[0;32m    260\u001b[0m \u001b[39mreturn\u001b[39;00m comstat\u001b[39m.\u001b[39mcbInQue\n",
      "\u001b[1;31mKeyboardInterrupt\u001b[0m: "
     ]
    }
   ],
   "source": [
    "count = 0\n",
    "\n",
    "while True:\n",
    "    if serialInstance.in_waiting:\n",
    "        packet = serialInstance.readline()\n",
    "        txt = packet.decode('utf-8')\n",
    "        text = txt.strip()\n",
    "        #print(text)\n",
    "        #print(type(text))\n",
    "        handleText(text)\n",
    "        time.sleep(0.5)\n",
    "        for i in range(5):\n",
    "            serialInstance.readline()   \n"
   ]
  }
 ],
 "metadata": {
  "kernelspec": {
   "display_name": "base",
   "language": "python",
   "name": "python3"
  },
  "language_info": {
   "codemirror_mode": {
    "name": "ipython",
    "version": 3
   },
   "file_extension": ".py",
   "mimetype": "text/x-python",
   "name": "python",
   "nbconvert_exporter": "python",
   "pygments_lexer": "ipython3",
   "version": "3.8.13"
  },
  "orig_nbformat": 4,
  "vscode": {
   "interpreter": {
    "hash": "8db1f09a32d6b35fc63d81a5bbd5fe6d51c44c284dda5c048030b81f332a96ab"
   }
  }
 },
 "nbformat": 4,
 "nbformat_minor": 2
}
